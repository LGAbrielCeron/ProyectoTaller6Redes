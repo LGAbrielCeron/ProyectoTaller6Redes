{
 "cells": [
  {
   "cell_type": "code",
   "execution_count": 14,
   "id": "da90e0a8",
   "metadata": {},
   "outputs": [
    {
     "name": "stdout",
     "output_type": "stream",
     "text": [
      "Dataset URL: https://www.kaggle.com/datasets/asaniczka/tmdb-movies-dataset-2023-930k-movies\n",
      "Downloading tmdb-movies-dataset-2023-930k-movies.zip to .\\tmdb-movies-dataset-2023-930k-movies\n"
     ]
    },
    {
     "name": "stderr",
     "output_type": "stream",
     "text": [
      "100%|██████████| 224M/224M [00:05<00:00, 40.4MB/s] \n"
     ]
    },
    {
     "name": "stdout",
     "output_type": "stream",
     "text": [
      "\n"
     ]
    }
   ],
   "source": [
    "import opendatasets as od\n",
    "od.download('https://www.kaggle.com/datasets/asaniczka/tmdb-movies-dataset-2023-930k-movies')"
   ]
  },
  {
   "cell_type": "code",
   "execution_count": 7,
   "id": "409d7260",
   "metadata": {},
   "outputs": [],
   "source": [
    "import pandas as pd\n",
    "dataset = 'tmdb-movies-dataset-2023-930k-movies/TMDB_movie_dataset_v11.csv'\n",
    "df = pd.read_csv(dataset)\n",
    "#display(df.head(100))  "
   ]
  },
  {
   "cell_type": "code",
   "execution_count": null,
   "id": "32b90214",
   "metadata": {},
   "outputs": [
    {
     "name": "stdout",
     "output_type": "stream",
     "text": [
      "Missing values per column in the first 100 rows:\n",
      "id                      0\n",
      "title                   0\n",
      "vote_average            0\n",
      "vote_count              0\n",
      "status                  0\n",
      "release_date            0\n",
      "revenue                 0\n",
      "runtime                 0\n",
      "adult                   0\n",
      "backdrop_path           0\n",
      "budget                  0\n",
      "homepage                7\n",
      "imdb_id                 0\n",
      "original_language       0\n",
      "original_title          0\n",
      "overview                0\n",
      "popularity              0\n",
      "poster_path             0\n",
      "tagline                 0\n",
      "genres                  0\n",
      "production_companies    0\n",
      "production_countries    0\n",
      "spoken_languages        0\n",
      "keywords                0\n",
      "dtype: int64\n",
      "⚠️ There are missing values in some columns.\n"
     ]
    }
   ],
   "source": [
    "#se verifica si hay datos faltantes en las primeras 100 filas\n",
    "missing = df.head(100).isnull().sum()\n",
    "print(\"Missing values per column in the first 100 rows:\")\n",
    "print(missing)\n",
    "if (missing == 0).all():\n",
    "    print(\"✅ No missing data in the first 100 rows.\")\n",
    "else:\n",
    "    print(\"⚠️ There are missing values in some columns.\")"
   ]
  },
  {
   "cell_type": "code",
   "execution_count": 10,
   "id": "649641c4",
   "metadata": {},
   "outputs": [
    {
     "name": "stdout",
     "output_type": "stream",
     "text": [
      "Total de filas completas: 100\n"
     ]
    }
   ],
   "source": [
    "\n",
    "first_100 = df.head(100)\n",
    "complete_first_100 = first_100.dropna()\n",
    "missing_count = 100 - len(complete_first_100)\n",
    "extra_complete = df.iloc[100:].dropna().head(missing_count)\n",
    "final_100 = pd.concat([complete_first_100, extra_complete], ignore_index=True)\n",
    "print(f\"Total de filas completas: {len(final_100)}\")\n",
    "#display(final_100)"
   ]
  },
  {
   "cell_type": "code",
   "execution_count": 12,
   "id": "fe9f7878",
   "metadata": {},
   "outputs": [
    {
     "name": "stdout",
     "output_type": "stream",
     "text": [
      "Missing values per column in the first 100 rows:\n",
      "id                      0\n",
      "title                   0\n",
      "vote_average            0\n",
      "vote_count              0\n",
      "status                  0\n",
      "release_date            0\n",
      "revenue                 0\n",
      "runtime                 0\n",
      "adult                   0\n",
      "backdrop_path           0\n",
      "budget                  0\n",
      "homepage                0\n",
      "imdb_id                 0\n",
      "original_language       0\n",
      "original_title          0\n",
      "overview                0\n",
      "popularity              0\n",
      "poster_path             0\n",
      "tagline                 0\n",
      "genres                  0\n",
      "production_companies    0\n",
      "production_countries    0\n",
      "spoken_languages        0\n",
      "keywords                0\n",
      "dtype: int64\n",
      "✅ No missing data in the first 100 rows.\n"
     ]
    }
   ],
   "source": [
    "missing = final_100.head(100).isnull().sum()\n",
    "print(\"Missing values per column in the first 100 rows:\")\n",
    "print(missing)\n",
    "if (missing == 0).all():\n",
    "    print(\"✅ No missing data in the first 100 rows.\")\n",
    "else:\n",
    "    print(\"⚠️ There are missing values in some columns.\")"
   ]
  },
  {
   "cell_type": "code",
   "execution_count": 13,
   "id": "4f68c3d2",
   "metadata": {},
   "outputs": [
    {
     "name": "stdout",
     "output_type": "stream",
     "text": [
      "Archivo 'proyectoDataset.csv' guardado correctamente.\n"
     ]
    }
   ],
   "source": [
    "# Guardar el DataFrame final_100 como un archivo CSV llamado 'proyectoDataset.csv'\n",
    "final_100.to_csv('proyectoDataset.csv', index=False)\n",
    "print(\"Archivo 'proyectoDataset.csv' guardado correctamente.\")"
   ]
  }
 ],
 "metadata": {
  "kernelspec": {
   "display_name": "Python 3",
   "language": "python",
   "name": "python3"
  },
  "language_info": {
   "codemirror_mode": {
    "name": "ipython",
    "version": 3
   },
   "file_extension": ".py",
   "mimetype": "text/x-python",
   "name": "python",
   "nbconvert_exporter": "python",
   "pygments_lexer": "ipython3",
   "version": "3.11.9"
  }
 },
 "nbformat": 4,
 "nbformat_minor": 5
}
